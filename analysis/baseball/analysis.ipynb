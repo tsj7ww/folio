{
 "cells": [
  {
   "cell_type": "markdown",
   "metadata": {},
   "source": [
    "# Baseball Analysis\n",
    "Analysis on baseball data.\n",
    "\n",
    "### Data Sources\n",
    "1. [Lahman's Baseball Database](http://www.seanlahman.com/baseball-archive/statistics/)\n",
    "    - [GitHub CSV Version](https://github.com/chadwickbureau/baseballdatabank)\n",
    "\n",
    "### Questions\n",
    "1. Regression -> Relationship between salary and team, appearances, and awards.\n",
    "1. Visualization -> Salary by Position over Time\n",
    "1. ..."
   ]
  },
  {
   "cell_type": "code",
   "execution_count": 79,
   "metadata": {},
   "outputs": [],
   "source": [
    "import os\n",
    "import re\n",
    "import json\n",
    "from datetime import datetime\n",
    "from math import ceil\n",
    "from io import StringIO\n",
    "# quant analysis\n",
    "import sqlite3\n",
    "import numpy as np\n",
    "import pandas as pd\n",
    "# import statsmodels.api as sm\n",
    "from sklearn import linear_model\n",
    "import scipy.stats\n",
    "# data viz\n",
    "import matplotlib.pyplot as plt\n",
    "%matplotlib inline"
   ]
  },
  {
   "cell_type": "code",
   "execution_count": 133,
   "metadata": {},
   "outputs": [],
   "source": [
    "def CONFIG():\n",
    "    \"\"\"\"\"\"\n",
    "    pid = 'analysis-baseball'\n",
    "    now = datetime.now()\n",
    "    cwd = os.getcwd()\n",
    "    data = os.path.join(cwd,'data')\n",
    "    \n",
    "    cfg = {\n",
    "        'data': data,\n",
    "        'lahman': os.path.join(data, 'lahmansbaseballdb.sqlite'),\n",
    "        'eda': {\n",
    "            'path': os.path.join(cwd,'eda'),\n",
    "            'key': '{table_name}.md'\n",
    "        },\n",
    "        'viz': os.path.join(cwd,'viz')\n",
    "    }\n",
    "    \n",
    "    return cfg"
   ]
  },
  {
   "cell_type": "code",
   "execution_count": 41,
   "metadata": {},
   "outputs": [],
   "source": [
    "def EDA(df,f_out,n=10):\n",
    "    \"\"\"\"\"\"    \n",
    "    name = os.path.basename(f_out).split('.')[0]\n",
    "    lb = '\\n'\n",
    "    lblb = '\\n\\n'\n",
    "    \n",
    "    # columns & types\n",
    "    content = '# EDA - {} Files {}'.format(os.path.basename(name).upper(),lblb)\n",
    "    content+='#### Column Name [IDX] -  Dtype (Head / Tail) {}'.format(lb)\n",
    "    dtypes = df.dtypes.to_dict()\n",
    "    head = df.head(1).T.iloc[:,0].to_list() # to_dict() - head.get(j)\n",
    "    tail = df.tail(1).T.iloc[:,0].to_list() # to_dict() - tail.get(j)\n",
    "    for i,j in enumerate(df.columns):\n",
    "        content+='- **{}** [{}] - {} ({} / {}) {}'.format(j, i, dtypes.get(j), head[i], tail[i], lb)\n",
    "    \n",
    "    # html\n",
    "    content+='{}#### Head / Tail [n={}] Sample {}'.format(lb+lblb,n,lblb)\n",
    "    content+=(df.head(n).append(df.tail(n)).to_html(None,index=False,header=True))\n",
    "    \n",
    "    with open(f_out,'w') as f:\n",
    "        f.write(content)"
   ]
  },
  {
   "cell_type": "code",
   "execution_count": null,
   "metadata": {},
   "outputs": [],
   "source": [
    "def SQLITE_TABLES(cnxn):\n",
    "    \"\"\"\"\"\"\n",
    "    cur = cnxn.cursor()\n",
    "    for i in cur.execute(\"select name from sqlite_master where type = 'table'\").fetchall():\n",
    "        yield i[0]"
   ]
  },
  {
   "cell_type": "code",
   "execution_count": 125,
   "metadata": {},
   "outputs": [],
   "source": [
    "def SALARY_SQL():\n",
    "    \"\"\"\"\"\"\n",
    "    query = \"\"\"\n",
    "        with\n",
    "            cte_awards as (\n",
    "                select distinct\n",
    "                    yearid,playerid,count(*) as awards_count\n",
    "                from awardsplayers\n",
    "                group by 1,2\n",
    "            )\n",
    "        select distinct\n",
    "            a.yearid, a.teamid\n",
    "            ,a.playerid, a.salary\n",
    "            ,coalesce(b.awards_count,0) as awards_count\n",
    "            --,strftime('%Y', f.debut_date) as debut_year\n",
    "            ,(a.yearid - strftime('%Y', f.debut_date)) as years_in_league\n",
    "            ,(cast(d.h as float)/cast(d.ab as float)) as batting_avg\n",
    "            ,e.pos as position\n",
    "            ,c.G_all, c.GS\n",
    "            ,c.G_batting\n",
    "            ,c.G_defense\n",
    "            --,c.G_p, c.G_c\n",
    "            --,c.G_1b, c.G_2b\n",
    "            --,c.G_3b, c.G_ss\n",
    "            --,c.G_lf, c.G_cf\n",
    "            --,c.G_rf, c.G_of\n",
    "            --,c.G_dh, c.G_ph\n",
    "            --,c.G_pr\n",
    "        from salaries as a\n",
    "        left join cte_awards as b\n",
    "            on a.playerid=b.playerid\n",
    "            and a.yearid=(b.yearid-1)\n",
    "        inner join appearances as c\n",
    "            on a.playerid=c.playerid\n",
    "            and a.yearid=(c.yearid-1)\n",
    "            --and a.teamid=c.teamid\n",
    "        inner join batting as d\n",
    "            on a.playerid=d.playerid\n",
    "            and a.yearid=(d.yearid-1)\n",
    "            --and a.teamid=d.teamid\n",
    "        inner join fielding as e\n",
    "            on a.playerid=e.playerid\n",
    "            and a.yearid=(e.yearid-1)\n",
    "            --and a.teamid=e.teamid\n",
    "        inner join people as f\n",
    "            on a.playerid=f.playerid\n",
    "        where a.yearid>=2000\n",
    "        ;\n",
    "    \"\"\"\n",
    "    \n",
    "    return query"
   ]
  },
  {
   "cell_type": "code",
   "execution_count": null,
   "metadata": {},
   "outputs": [],
   "source": []
  },
  {
   "cell_type": "code",
   "execution_count": null,
   "metadata": {},
   "outputs": [],
   "source": []
  },
  {
   "cell_type": "code",
   "execution_count": null,
   "metadata": {},
   "outputs": [],
   "source": []
  },
  {
   "cell_type": "code",
   "execution_count": 135,
   "metadata": {},
   "outputs": [
    {
     "data": {
      "image/png": "[encoded data removed]",
      "text/plain": [
       "<Figure size 1008x288 with 1 Axes>"
      ]
     },
     "metadata": {},
     "output_type": "display_data"
    }
   ],
   "source": [
    "if __name__=='__main__':\n",
    "    CFG = CONFIG()\n",
    "    \n",
    "    # eda\n",
    "    eda = False\n",
    "    if eda:\n",
    "        with sqlite3.connect(CFG['lahman']) as cnxn:\n",
    "            for table in SQLITE_TABLES(cnxn):\n",
    "                query_base = 'select * from {table_name}' # \"pragma table_info('{table_name}')\" # -> sqlite metadata\n",
    "                df = pd.read_sql(query_base.format(table_name=table), cnxn)\n",
    "                EDA(df, os.path.join(CFG['eda']['path'],CFG['eda']['key'].format(table_name=table)))\n",
    "    # salary - regression & plotting\n",
    "    with sqlite3.connect(CFG['lahman']) as cnxn:\n",
    "        query = SALARY_SQL()\n",
    "        df = pd.read_sql(query, cnxn)\n",
    "        df.columns = map(lambda x: x.lower(), df.columns)\n",
    "#     for i in df.columns:\n",
    "#         print(f'{i}: {df.loc[1:5,i].to_list()}')\n",
    "    regression = False\n",
    "    if regression:\n",
    "        # params\n",
    "        year = 2016\n",
    "        y_var = 'salary'\n",
    "        x_cat = ['teamid','position']\n",
    "        x_vars = [\n",
    "            'awards_count','years_in_league'\n",
    "            ,'batting_avg','gs'\n",
    "            ,'g_batting','g_defense'\n",
    "        ] + x_cat\n",
    "        df_clean = df.loc[df.yearid==year].fillna(value=0)\n",
    "        # data\n",
    "        x = pd.get_dummies(\n",
    "            df_clean.loc[:,x_vars]\n",
    "            # .dropna().drop(x_drop, axis=1)\n",
    "            ,prefix='cat', prefix_sep='_'\n",
    "            ,columns=x_cat, drop_first=True\n",
    "        )\n",
    "        y = df_clean.loc[:,y_var]\n",
    "        # model\n",
    "        lm = linear_model.LinearRegression()\n",
    "        model = lm.fit(x,y)\n",
    "        model.score(x,y)\n",
    "    \n",
    "    graph = True\n",
    "    if graph:\n",
    "        ### cfg ###\n",
    "        df['salary_mil'] = df['salary']/1000000\n",
    "        cols = ('yearid','salary_mil')\n",
    "        pos1 = ('P','Pitcher')\n",
    "        pos2 = ('C','Catcher')\n",
    "        ### init ###\n",
    "        fig, ax = plt.subplots(nrows=1,ncols=1,sharex=False,sharey=False,figsize=(14,4)) # __ -> (ax1,ax2)\n",
    "        ### labels, formatting ###\n",
    "        plt.grid(True)\n",
    "        plt.tight_layout()\n",
    "        plt.style.use('fivethirtyeight') # ggplot, seaborn, fivethirtyeight, tableau-colorblind10, grayscale\n",
    "        #plt.xticks(ticks=x_indexes,labels=ages_x)\n",
    "        plt.xticks(rotation=45)\n",
    "        ### axis ###\n",
    "        ax.set_xlabel('Year')\n",
    "        ax.set_ylabel('Salary (USD) in Millions')\n",
    "        ax.set_title('Baseball Analysis - Salary Distribution by Position over Time')\n",
    "        ### plot ###\n",
    "        ax.scatter(\n",
    "            x=df.loc[df.position==pos1[0],cols[0]],\n",
    "            y=df.loc[df.position==pos1[0],cols[1]],\n",
    "            label=pos1[1]\n",
    "        )\n",
    "        ax.scatter(\n",
    "            x=df.loc[df.position==pos2[0],cols[0]],\n",
    "            y=df.loc[df.position==pos2[0],cols[1]],\n",
    "            label=pos2[1]\n",
    "        )\n",
    "        ax.legend()\n",
    "        fig.savefig(os.path.join(CFG['viz'],'salary_by_pos.svg'))"
   ]
  },
  {
   "cell_type": "code",
   "execution_count": null,
   "metadata": {},
   "outputs": [],
   "source": []
  },
  {
   "cell_type": "code",
   "execution_count": null,
   "metadata": {},
   "outputs": [],
   "source": []
  },
  {
   "cell_type": "code",
   "execution_count": null,
   "metadata": {},
   "outputs": [],
   "source": []
  },
  {
   "cell_type": "code",
   "execution_count": null,
   "metadata": {},
   "outputs": [],
   "source": []
  },
  {
   "cell_type": "code",
   "execution_count": null,
   "metadata": {},
   "outputs": [],
   "source": []
  },
  {
   "cell_type": "code",
   "execution_count": null,
   "metadata": {},
   "outputs": [],
   "source": []
  },
  {
   "cell_type": "code",
   "execution_count": null,
   "metadata": {},
   "outputs": [],
   "source": []
  },
  {
   "cell_type": "code",
   "execution_count": null,
   "metadata": {},
   "outputs": [],
   "source": []
  },
  {
   "cell_type": "code",
   "execution_count": null,
   "metadata": {},
   "outputs": [],
   "source": []
  },
  {
   "cell_type": "code",
   "execution_count": null,
   "metadata": {},
   "outputs": [],
   "source": []
  },
  {
   "cell_type": "code",
   "execution_count": null,
   "metadata": {},
   "outputs": [],
   "source": []
  },
  {
   "cell_type": "code",
   "execution_count": null,
   "metadata": {},
   "outputs": [],
   "source": []
  },
  {
   "cell_type": "code",
   "execution_count": null,
   "metadata": {},
   "outputs": [],
   "source": []
  },
  {
   "cell_type": "code",
   "execution_count": null,
   "metadata": {},
   "outputs": [],
   "source": []
  },
  {
   "cell_type": "code",
   "execution_count": null,
   "metadata": {},
   "outputs": [],
   "source": []
  },
  {
   "cell_type": "code",
   "execution_count": null,
   "metadata": {},
   "outputs": [],
   "source": []
  },
  {
   "cell_type": "code",
   "execution_count": null,
   "metadata": {},
   "outputs": [],
   "source": []
  }
 ],
 "metadata": {
  "kernelspec": {
   "display_name": "Python 3",
   "language": "python",
   "name": "python3"
  },
  "language_info": {
   "codemirror_mode": {
    "name": "ipython",
    "version": 3
   },
   "file_extension": ".py",
   "mimetype": "text/x-python",
   "name": "python",
   "nbconvert_exporter": "python",
   "pygments_lexer": "ipython3",
   "version": "3.7.7"
  }
 },
 "nbformat": 4,
 "nbformat_minor": 4
}
