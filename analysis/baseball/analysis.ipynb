{
 "cells": [
  {
   "cell_type": "code",
   "execution_count": 34,
   "metadata": {},
   "outputs": [],
   "source": [
    "import os\n",
    "import re\n",
    "import json\n",
    "from datetime import datetime\n",
    "from math import ceil\n",
    "from io import StringIO\n",
    "# quant analysis\n",
    "import sqlite3\n",
    "import numpy as np\n",
    "import pandas as pd\n",
    "import statsmodels.api as sm\n",
    "# import sklearn.datasets\n",
    "import scipy.stats\n",
    "# data viz\n",
    "import matplotlib.pyplot as plt\n",
    "%matplotlib inline"
   ]
  },
  {
   "cell_type": "code",
   "execution_count": 36,
   "metadata": {},
   "outputs": [],
   "source": [
    "def CONFIG():\n",
    "    \"\"\"\"\"\"\n",
    "    pid = 'analysis-baseball'\n",
    "    now = datetime.now()\n",
    "    cwd = os.getcwd()\n",
    "    data = os.path.join(cwd,'data')\n",
    "    \n",
    "    cfg = {\n",
    "        'data': data,\n",
    "        'lahman': os.path.join(data, 'lahmansbaseballdb.sqlite'),\n",
    "        'eda': {\n",
    "            'path': os.path.join(cwd,'eda'),\n",
    "            'key': '{table_name}.md'\n",
    "        }\n",
    "    }\n",
    "    \n",
    "    return cfg"
   ]
  },
  {
   "cell_type": "code",
   "execution_count": 41,
   "metadata": {},
   "outputs": [],
   "source": [
    "def EDA(df,f_out,n=10):\n",
    "    \"\"\"\"\"\"    \n",
    "    name = os.path.basename(f_out).split('.')[0]\n",
    "    lb = '\\n'\n",
    "    lblb = '\\n\\n'\n",
    "    \n",
    "    # columns & types\n",
    "    content = '# EDA - {} Files {}'.format(os.path.basename(name).upper(),lblb)\n",
    "    content+='#### Column Name [IDX] -  Dtype (Head / Tail) {}'.format(lb)\n",
    "    dtypes = df.dtypes.to_dict()\n",
    "    head = df.head(1).T.iloc[:,0].to_list() # to_dict() - head.get(j)\n",
    "    tail = df.tail(1).T.iloc[:,0].to_list() # to_dict() - tail.get(j)\n",
    "    for i,j in enumerate(df.columns):\n",
    "        content+='- **{}** [{}] - {} ({} / {}) {}'.format(j, i, dtypes.get(j), head[i], tail[i], lb)\n",
    "    \n",
    "    # html\n",
    "    content+='{}#### Head / Tail [n={}] Sample {}'.format(lb+lblb,n,lblb)\n",
    "    content+=(df.head(n).append(df.tail(n)).to_html(None,index=False,header=True))\n",
    "    \n",
    "    with open(f_out,'w') as f:\n",
    "        f.write(content)"
   ]
  },
  {
   "cell_type": "code",
   "execution_count": null,
   "metadata": {},
   "outputs": [],
   "source": []
  },
  {
   "cell_type": "code",
   "execution_count": 42,
   "metadata": {},
   "outputs": [],
   "source": [
    "if __name__=='__main__':\n",
    "    CFG = CONFIG()\n",
    "    with sqlite3.connect(CFG['lahman']) as cnxn:\n",
    "        query_base = 'select * from {table_name}'\n",
    "#         query_base = \"pragma table_info('{table_name}')\"\n",
    "        cur = cnxn.cursor()\n",
    "        tables = [i[0] for i in cur.execute(\"select name from sqlite_master where type = 'table'\").fetchall()]\n",
    "        for table in tables:\n",
    "            query = query_base.format(table_name=table)\n",
    "            df = pd.read_sql(query,cnxn)\n",
    "            EDA(df, os.path.join(CFG['eda']['path'],CFG['eda']['key'].format(table_name=table)))\n",
    "            "
   ]
  },
  {
   "cell_type": "code",
   "execution_count": null,
   "metadata": {},
   "outputs": [],
   "source": []
  },
  {
   "cell_type": "code",
   "execution_count": 31,
   "metadata": {},
   "outputs": [],
   "source": []
  },
  {
   "cell_type": "code",
   "execution_count": null,
   "metadata": {},
   "outputs": [],
   "source": []
  },
  {
   "cell_type": "code",
   "execution_count": null,
   "metadata": {},
   "outputs": [],
   "source": []
  },
  {
   "cell_type": "code",
   "execution_count": null,
   "metadata": {},
   "outputs": [],
   "source": []
  },
  {
   "cell_type": "code",
   "execution_count": null,
   "metadata": {},
   "outputs": [],
   "source": []
  },
  {
   "cell_type": "code",
   "execution_count": null,
   "metadata": {},
   "outputs": [],
   "source": []
  }
 ],
 "metadata": {
  "kernelspec": {
   "display_name": "Python 3",
   "language": "python",
   "name": "python3"
  },
  "language_info": {
   "codemirror_mode": {
    "name": "ipython",
    "version": 3
   },
   "file_extension": ".py",
   "mimetype": "text/x-python",
   "name": "python",
   "nbconvert_exporter": "python",
   "pygments_lexer": "ipython3",
   "version": "3.7.7"
  }
 },
 "nbformat": 4,
 "nbformat_minor": 4
}
