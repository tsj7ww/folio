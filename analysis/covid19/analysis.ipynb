{
 "cells": [
  {
   "cell_type": "markdown",
   "metadata": {},
   "source": [
    "# Covid19 Data Analysis\n",
    "\n",
    "#### Overview\n",
    "..."
   ]
  },
  {
   "cell_type": "code",
   "execution_count": 46,
   "metadata": {},
   "outputs": [],
   "source": [
    "import datetime\n",
    "import pprint\n",
    "import os\n",
    "import io\n",
    "import re\n",
    "import glob\n",
    "import json\n",
    "import math\n",
    "# aws\n",
    "import boto3\n",
    "# quant analysis\n",
    "import numpy as np\n",
    "import pandas as pd\n",
    "import statsmodels.api as sm\n",
    "# import sklearn.datasets\n",
    "import scipy.stats\n",
    "# data viz\n",
    "import matplotlib.pyplot as plt\n",
    "%matplotlib inline\n",
    "import seaborn as sns\n",
    "# import bokeh"
   ]
  },
  {
   "cell_type": "code",
   "execution_count": 20,
   "metadata": {},
   "outputs": [],
   "source": [
    "def CONFIG():\n",
    "    \"\"\"\"\"\"\n",
    "    pid = 'analysis-covid19'\n",
    "    now = datetime.datetime.now()\n",
    "    cwd = os.getcwd()\n",
    "    data = os.path.join(cwd,'out')\n",
    "    \n",
    "    cfg = {\n",
    "        'out': data,\n",
    "        'covid': os.path.join(data,'covid'),\n",
    "        'demo': os.path.join(data,'demo'),\n",
    "        'files': glob.glob(os.path.join(data,'*','*.parquet.gzip'),recursive=True),\n",
    "    }\n",
    "    \n",
    "    return cfg"
   ]
  },
  {
   "cell_type": "code",
   "execution_count": 17,
   "metadata": {},
   "outputs": [],
   "source": [
    "class Covid19: # naming convention: GoodName\n",
    "    \"\"\"\n",
    "    Class for retrival, storage, and manipulation\n",
    "      of Covid19 data.\n",
    "    \"\"\"\n",
    "    \n",
    "    __slots__ = ('fpath','dataframe',)\n",
    "    \n",
    "    def __init__(self,fpath):\n",
    "        self.fpath = fpath\n",
    "        self.dataframe = _load()\n",
    "        self.is_clean = 0\n",
    "        self.is_processed = 0\n",
    "    \n",
    "    @staticmethod # static methods - does it make sense to call a class method\n",
    "    # EVEN BEFORE a class has been created? e.g. metric conversion info\n",
    "    def define():\n",
    "        return '\\\n",
    "            Coronavirus disease 2019 (COVID-19) \\\n",
    "            is an infectious disease caused by severe \\\n",
    "            acute respiratory syndrome coronavirus 2 \\\n",
    "            (SARS-CoV-2).[10] It was first identified in \\\n",
    "            December 2019 in Wuhan, Hubei, China, and has \\\n",
    "            resulted in an ongoing pandemic.\\\n",
    "        '\n",
    "    \n",
    "    def __repr__(self):\n",
    "        return f'Covid19({self.fpath!r})'\n",
    "    def __str__(self):\n",
    "        return f'Covid19 dataset - {self.fpath}'\n",
    "    def _load(self):\n",
    "        return pd.read_parquet(self.fpath,header=0)\n",
    "    \n",
    "    # instance method\n",
    "    def clean(self):\n",
    "        try:\n",
    "            df = self.dataframe\n",
    "            # ...\n",
    "            self.dataframe = df\n",
    "            self.is_clean = 1\n",
    "        except:\n",
    "            raise\n",
    "    \n",
    "    # instance method\n",
    "    def process(self):\n",
    "        try:\n",
    "            assert self.is_clean==1\n",
    "            df = self.dataframe\n",
    "            # ...\n",
    "            self.dataframe = df\n",
    "            self.is_processed = 1\n",
    "        except AssertionError:\n",
    "            self.clean()\n",
    "            self.process()\n",
    "        except:\n",
    "            raise\n",
    "    "
   ]
  },
  {
   "cell_type": "code",
   "execution_count": 68,
   "metadata": {},
   "outputs": [],
   "source": [
    "def SUMMARY(series, sample=2):\n",
    "    \"\"\"\"\"\"\n",
    "    unique = series.unique()\n",
    "    values = series.dropna()\n",
    "    dtype = str(type(values[0])).split('\\'')[1]\n",
    "    \n",
    "    return {\n",
    "        'dtype': dtype, # c.dtypes\n",
    "        'sample': series.sample(n=sample).to_list(), # .sample(n=math.ceil(series.shape[0]*sample)),\n",
    "        'countA': series.shape[0],\n",
    "        'countD': len(unique),\n",
    "        'countV': series.count(),\n",
    "        'countNaN': series.isna().sum(),\n",
    "        'min': min(values),\n",
    "        'mode': series.mode().to_list(),\n",
    "        'max': max(values),\n",
    "        'median': series.median() if dtype!='str' else None,\n",
    "        'mean': round(series.mean(),2) if dtype!='str' else None,\n",
    "        'std': round(series.std(),2) if dtype!='str' else None,\n",
    "    }"
   ]
  },
  {
   "cell_type": "code",
   "execution_count": null,
   "metadata": {},
   "outputs": [],
   "source": [
    "def REGRESS():\n",
    "    \"\"\"\"\"\"\n",
    "    df = data['jhu-csse-dly-us'].dropna()\n",
    "    x = df.loc[:,['CONFIRMED','DEATHS']]\n",
    "    y = df['MORTALITY_RATE']\n",
    "    mod = sm.OLS(y,x).fit()\n",
    "\n",
    "    return mod.summary()"
   ]
  },
  {
   "cell_type": "code",
   "execution_count": 25,
   "metadata": {},
   "outputs": [],
   "source": [
    "def PLOT(df,xaxis,yaxis,split):\n",
    "    \"\"\"\"\"\"\n",
    "    sns.set_theme(style='ticks')\n",
    "    return sns.lmplot(\n",
    "        x=xaxis,y=yaxis,\n",
    "        data=df,hue=split,\n",
    "#         palette='husl',\n",
    "    ) "
   ]
  },
  {
   "cell_type": "code",
   "execution_count": 38,
   "metadata": {},
   "outputs": [],
   "source": [
    "def PREP(df):\n",
    "    \"\"\"\"\"\"\n",
    "    # dates\n",
    "    date_field = 'DATA_DT'\n",
    "    date_format = '%Y-%m-%d'\n",
    "    df.date_field = df.date_field.apply(lambda x: x.strftime(date_format))\n",
    "    # other...\n",
    "    \n",
    "    return df"
   ]
  },
  {
   "cell_type": "code",
   "execution_count": null,
   "metadata": {},
   "outputs": [],
   "source": []
  },
  {
   "cell_type": "code",
   "execution_count": 21,
   "metadata": {},
   "outputs": [],
   "source": [
    "if __name__=='__main__':\n",
    "    CFG = CONFIG()\n",
    "    \n",
    "    data = {}\n",
    "    for file in CFG['files']:\n",
    "        fname = os.path.basename(file).split('.')[0]\n",
    "        data[fname] = pd.read_parquet(file)\n",
    "#     data.keys()\n",
    "\n",
    "    PLOT(data['jhu-csse-dly-us'],'DATA_DT','CONFIRMED','PROVINCE_STATE')"
   ]
  },
  {
   "cell_type": "code",
   "execution_count": null,
   "metadata": {},
   "outputs": [],
   "source": []
  },
  {
   "cell_type": "code",
   "execution_count": 67,
   "metadata": {},
   "outputs": [
    {
     "name": "stdout",
     "output_type": "stream",
     "text": [
      "{'countA': 1120,\n",
      " 'countD': 953,\n",
      " 'countNaN': 0,\n",
      " 'countV': 1120,\n",
      " 'dtype': 'numpy.int64',\n",
      " 'max': 304372,\n",
      " 'mean': 13806.78,\n",
      " 'median': 3547.5,\n",
      " 'min': 0,\n",
      " 'mode': [0],\n",
      " 'sample': [444, 4886],\n",
      " 'std': 35496.285812066744}\n"
     ]
    }
   ],
   "source": [
    "pprint.pprint(SUMMARY(df.CONFIRMED))"
   ]
  },
  {
   "cell_type": "code",
   "execution_count": null,
   "metadata": {},
   "outputs": [],
   "source": []
  },
  {
   "cell_type": "code",
   "execution_count": null,
   "metadata": {},
   "outputs": [],
   "source": []
  },
  {
   "cell_type": "code",
   "execution_count": 79,
   "metadata": {},
   "outputs": [],
   "source": [
    "states = ['Virginia','Florida','New York','California','Texas']\n",
    "df = data['jhu-csse-dly-us']\n",
    "df.PROVINCE_STATE = df.loc[df.PROVINCE_STATE.isin(states)]"
   ]
  },
  {
   "cell_type": "code",
   "execution_count": 80,
   "metadata": {},
   "outputs": [
    {
     "data": {
      "text/plain": [
       "<AxesSubplot:xlabel='DATA_DT', ylabel='CONFIRMED'>"
      ]
     },
     "execution_count": 80,
     "metadata": {},
     "output_type": "execute_result"
    },
    {
     "data": {
      "image/png": "[encoded data removed]",
      "text/plain": [
       "<Figure size 468x468 with 1 Axes>"
      ]
     },
     "metadata": {},
     "output_type": "display_data"
    }
   ],
   "source": [
    "\n",
    "sns.set_theme(style='whitegrid')\n",
    "f, ax = plt.subplots(figsize=(6.5, 6.5))\n",
    "sns.despine(f, left=True, bottom=True)\n",
    "sns.scatterplot(\n",
    "    x='DATA_DT',\n",
    "    y='CONFIRMED',\n",
    "    data=df,\n",
    "    hue='PROVINCE_STATE',\n",
    "    palette='husl',legend='auto',\n",
    "#     scatter_kws={\"s\": 50, \"alpha\": 1},\n",
    "    ax=ax,\n",
    ") "
   ]
  },
  {
   "cell_type": "code",
   "execution_count": null,
   "metadata": {},
   "outputs": [],
   "source": []
  },
  {
   "cell_type": "code",
   "execution_count": null,
   "metadata": {},
   "outputs": [],
   "source": []
  },
  {
   "cell_type": "code",
   "execution_count": null,
   "metadata": {},
   "outputs": [],
   "source": []
  }
 ],
 "metadata": {
  "kernelspec": {
   "display_name": "Python 3",
   "language": "python",
   "name": "python3"
  },
  "language_info": {
   "codemirror_mode": {
    "name": "ipython",
    "version": 3
   },
   "file_extension": ".py",
   "mimetype": "text/x-python",
   "name": "python",
   "nbconvert_exporter": "python",
   "pygments_lexer": "ipython3",
   "version": "3.7.7"
  }
 },
 "nbformat": 4,
 "nbformat_minor": 4
}
